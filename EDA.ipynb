{
 "cells": [
  {
   "attachments": {},
   "cell_type": "markdown",
   "metadata": {},
   "source": [
    "Vamos a realizar un análisis exploratorio de datos de los siguientes datasets: 'Coursera_courses.csv', 'Coursera_reviews.csv', 'edx_courses.csv' y 'udemy_courses.csv' los cuales contienen información sobre plataformas de cursos onlines llamadas los MOOCs (cursos masivos abiertos y online, por sus siglas en inglés). "
   ]
  },
  {
   "cell_type": "code",
   "execution_count": 65,
   "metadata": {},
   "outputs": [],
   "source": [
    "#importamos las librerias necesarias\n",
    "\n",
    "import pandas as pd\n",
    "import matplotlib.pyplot as plt\n",
    "import seaborn as sns\n"
   ]
  },
  {
   "attachments": {},
   "cell_type": "markdown",
   "metadata": {},
   "source": [
    "Cargamos los archivos utilizando la libreria pandas"
   ]
  },
  {
   "cell_type": "code",
   "execution_count": 66,
   "metadata": {},
   "outputs": [],
   "source": [
    "coursera =pd.read_csv(r'Datasets/Coursera_courses.csv')\n",
    "coursera_rew =pd.read_csv(r'Datasets/Coursera_reviews.csv')\n",
    "edx=pd.read_csv(r'Datasets/edx_courses.csv')\n",
    "udemy=pd.read_csv(r'Datasets/udemy_courses.csv')"
   ]
  },
  {
   "cell_type": "code",
   "execution_count": 67,
   "metadata": {},
   "outputs": [
    {
     "data": {
      "text/html": [
       "<div>\n",
       "<style scoped>\n",
       "    .dataframe tbody tr th:only-of-type {\n",
       "        vertical-align: middle;\n",
       "    }\n",
       "\n",
       "    .dataframe tbody tr th {\n",
       "        vertical-align: top;\n",
       "    }\n",
       "\n",
       "    .dataframe thead th {\n",
       "        text-align: right;\n",
       "    }\n",
       "</style>\n",
       "<table border=\"1\" class=\"dataframe\">\n",
       "  <thead>\n",
       "    <tr style=\"text-align: right;\">\n",
       "      <th></th>\n",
       "      <th>name</th>\n",
       "      <th>institution</th>\n",
       "      <th>course_url</th>\n",
       "      <th>course_id</th>\n",
       "    </tr>\n",
       "  </thead>\n",
       "  <tbody>\n",
       "    <tr>\n",
       "      <th>0</th>\n",
       "      <td>Machine Learning</td>\n",
       "      <td>Stanford University</td>\n",
       "      <td>https://www.coursera.org/learn/machine-learning</td>\n",
       "      <td>machine-learning</td>\n",
       "    </tr>\n",
       "    <tr>\n",
       "      <th>1</th>\n",
       "      <td>Indigenous Canada</td>\n",
       "      <td>University of Alberta</td>\n",
       "      <td>https://www.coursera.org/learn/indigenous-canada</td>\n",
       "      <td>indigenous-canada</td>\n",
       "    </tr>\n",
       "    <tr>\n",
       "      <th>2</th>\n",
       "      <td>The Science of Well-Being</td>\n",
       "      <td>Yale University</td>\n",
       "      <td>https://www.coursera.org/learn/the-science-of-...</td>\n",
       "      <td>the-science-of-well-being</td>\n",
       "    </tr>\n",
       "  </tbody>\n",
       "</table>\n",
       "</div>"
      ],
      "text/plain": [
       "                        name            institution  \\\n",
       "0           Machine Learning    Stanford University   \n",
       "1          Indigenous Canada  University of Alberta   \n",
       "2  The Science of Well-Being        Yale University   \n",
       "\n",
       "                                          course_url  \\\n",
       "0    https://www.coursera.org/learn/machine-learning   \n",
       "1   https://www.coursera.org/learn/indigenous-canada   \n",
       "2  https://www.coursera.org/learn/the-science-of-...   \n",
       "\n",
       "                   course_id  \n",
       "0           machine-learning  \n",
       "1          indigenous-canada  \n",
       "2  the-science-of-well-being  "
      ]
     },
     "execution_count": 67,
     "metadata": {},
     "output_type": "execute_result"
    }
   ],
   "source": [
    "coursera.head(3)"
   ]
  },
  {
   "attachments": {},
   "cell_type": "markdown",
   "metadata": {},
   "source": [
    "Descripción de las dimensiones del dataframe 'coursera'. \n",
    "* `name`: Nombre del curso \n",
    "* `institucion`: Nombre de la universidad de donde se ofrece \n",
    "* `course_url`: Link del curso \n",
    "* `course_id`: Id del curso "
   ]
  },
  {
   "cell_type": "code",
   "execution_count": 68,
   "metadata": {},
   "outputs": [
    {
     "data": {
      "text/html": [
       "<div>\n",
       "<style scoped>\n",
       "    .dataframe tbody tr th:only-of-type {\n",
       "        vertical-align: middle;\n",
       "    }\n",
       "\n",
       "    .dataframe tbody tr th {\n",
       "        vertical-align: top;\n",
       "    }\n",
       "\n",
       "    .dataframe thead th {\n",
       "        text-align: right;\n",
       "    }\n",
       "</style>\n",
       "<table border=\"1\" class=\"dataframe\">\n",
       "  <thead>\n",
       "    <tr style=\"text-align: right;\">\n",
       "      <th></th>\n",
       "      <th>reviews</th>\n",
       "      <th>reviewers</th>\n",
       "      <th>date_reviews</th>\n",
       "      <th>rating</th>\n",
       "      <th>course_id</th>\n",
       "    </tr>\n",
       "  </thead>\n",
       "  <tbody>\n",
       "    <tr>\n",
       "      <th>0</th>\n",
       "      <td>Pretty dry, but I was able to pass with just t...</td>\n",
       "      <td>By Robert S</td>\n",
       "      <td>Feb 12, 2020</td>\n",
       "      <td>4</td>\n",
       "      <td>google-cbrs-cpi-training</td>\n",
       "    </tr>\n",
       "    <tr>\n",
       "      <th>1</th>\n",
       "      <td>would be a better experience if the video and ...</td>\n",
       "      <td>By Gabriel E R</td>\n",
       "      <td>Sep 28, 2020</td>\n",
       "      <td>4</td>\n",
       "      <td>google-cbrs-cpi-training</td>\n",
       "    </tr>\n",
       "    <tr>\n",
       "      <th>2</th>\n",
       "      <td>Information was perfect! The program itself wa...</td>\n",
       "      <td>By Jacob D</td>\n",
       "      <td>Apr 08, 2020</td>\n",
       "      <td>4</td>\n",
       "      <td>google-cbrs-cpi-training</td>\n",
       "    </tr>\n",
       "  </tbody>\n",
       "</table>\n",
       "</div>"
      ],
      "text/plain": [
       "                                             reviews       reviewers  \\\n",
       "0  Pretty dry, but I was able to pass with just t...     By Robert S   \n",
       "1  would be a better experience if the video and ...  By Gabriel E R   \n",
       "2  Information was perfect! The program itself wa...      By Jacob D   \n",
       "\n",
       "   date_reviews  rating                 course_id  \n",
       "0  Feb 12, 2020       4  google-cbrs-cpi-training  \n",
       "1  Sep 28, 2020       4  google-cbrs-cpi-training  \n",
       "2  Apr 08, 2020       4  google-cbrs-cpi-training  "
      ]
     },
     "execution_count": 68,
     "metadata": {},
     "output_type": "execute_result"
    }
   ],
   "source": [
    "coursera_rew.head(3)"
   ]
  },
  {
   "attachments": {},
   "cell_type": "markdown",
   "metadata": {},
   "source": [
    "Descripción de las dimensiones del dataframe 'coursera_rew'.\n",
    " \n",
    "* `reviews`: Reseñas de los suscriptores\n",
    "* `reviewers`: Nombre del suscriptor \n",
    "* `date_reviews`: Fecha de la reseña \n",
    "* ` rating`: Valoracion de la reseña (de 1 a 5)\n",
    "* `course_id`: Id del curso "
   ]
  },
  {
   "cell_type": "code",
   "execution_count": 69,
   "metadata": {},
   "outputs": [
    {
     "data": {
      "text/html": [
       "<div>\n",
       "<style scoped>\n",
       "    .dataframe tbody tr th:only-of-type {\n",
       "        vertical-align: middle;\n",
       "    }\n",
       "\n",
       "    .dataframe tbody tr th {\n",
       "        vertical-align: top;\n",
       "    }\n",
       "\n",
       "    .dataframe thead th {\n",
       "        text-align: right;\n",
       "    }\n",
       "</style>\n",
       "<table border=\"1\" class=\"dataframe\">\n",
       "  <thead>\n",
       "    <tr style=\"text-align: right;\">\n",
       "      <th></th>\n",
       "      <th>title</th>\n",
       "      <th>summary</th>\n",
       "      <th>n_enrolled</th>\n",
       "      <th>course_type</th>\n",
       "      <th>institution</th>\n",
       "      <th>instructors</th>\n",
       "      <th>Level</th>\n",
       "      <th>subject</th>\n",
       "      <th>language</th>\n",
       "      <th>subtitles</th>\n",
       "      <th>course_effort</th>\n",
       "      <th>course_length</th>\n",
       "      <th>price</th>\n",
       "      <th>course_description</th>\n",
       "      <th>course_syllabus</th>\n",
       "      <th>course_url</th>\n",
       "    </tr>\n",
       "  </thead>\n",
       "  <tbody>\n",
       "    <tr>\n",
       "      <th>0</th>\n",
       "      <td>How to Learn Online</td>\n",
       "      <td>Learn essential strategies for successful onli...</td>\n",
       "      <td>124,980</td>\n",
       "      <td>Self-paced on your time</td>\n",
       "      <td>edX</td>\n",
       "      <td>Nina Huntemann-Robyn Belair-Ben Piscopo</td>\n",
       "      <td>Introductory</td>\n",
       "      <td>Education &amp; Teacher Training</td>\n",
       "      <td>English</td>\n",
       "      <td>English</td>\n",
       "      <td>2–3 hours per week</td>\n",
       "      <td>2 Weeks</td>\n",
       "      <td>FREE-Add a Verified Certificate for $49 USD</td>\n",
       "      <td>Designed for those who are new to elearning, t...</td>\n",
       "      <td>Welcome - We start with opportunities to meet ...</td>\n",
       "      <td>https://www.edx.org/course/how-to-learn-online</td>\n",
       "    </tr>\n",
       "    <tr>\n",
       "      <th>1</th>\n",
       "      <td>Programming for Everybody (Getting Started wit...</td>\n",
       "      <td>This course is a \"no prerequisite\" introductio...</td>\n",
       "      <td>293,864</td>\n",
       "      <td>Self-paced on your time</td>\n",
       "      <td>The University of Michigan</td>\n",
       "      <td>Charles Severance</td>\n",
       "      <td>Introductory</td>\n",
       "      <td>Computer Science</td>\n",
       "      <td>English</td>\n",
       "      <td>English</td>\n",
       "      <td>2–4 hours per week</td>\n",
       "      <td>7 Weeks</td>\n",
       "      <td>FREE-Add a Verified Certificate for $49 USD</td>\n",
       "      <td>This course aims to teach everyone the basics ...</td>\n",
       "      <td>NaN</td>\n",
       "      <td>https://www.edx.org/course/programming-for-eve...</td>\n",
       "    </tr>\n",
       "    <tr>\n",
       "      <th>2</th>\n",
       "      <td>CS50's Introduction to Computer Science</td>\n",
       "      <td>An introduction to the intellectual enterprise...</td>\n",
       "      <td>2,442,271</td>\n",
       "      <td>Self-paced on your time</td>\n",
       "      <td>Harvard University</td>\n",
       "      <td>David J. Malan-Doug Lloyd-Brian Yu</td>\n",
       "      <td>Introductory</td>\n",
       "      <td>Computer Science</td>\n",
       "      <td>English</td>\n",
       "      <td>English</td>\n",
       "      <td>6–18 hours per week</td>\n",
       "      <td>12 Weeks</td>\n",
       "      <td>FREE-Add a Verified Certificate for $90 USD</td>\n",
       "      <td>This is CS50x , Harvard University's introduct...</td>\n",
       "      <td>NaN</td>\n",
       "      <td>https://www.edx.org/course/cs50s-introduction-...</td>\n",
       "    </tr>\n",
       "  </tbody>\n",
       "</table>\n",
       "</div>"
      ],
      "text/plain": [
       "                                               title  \\\n",
       "0                                How to Learn Online   \n",
       "1  Programming for Everybody (Getting Started wit...   \n",
       "2            CS50's Introduction to Computer Science   \n",
       "\n",
       "                                             summary n_enrolled  \\\n",
       "0  Learn essential strategies for successful onli...    124,980   \n",
       "1  This course is a \"no prerequisite\" introductio...    293,864   \n",
       "2  An introduction to the intellectual enterprise...  2,442,271   \n",
       "\n",
       "               course_type                 institution  \\\n",
       "0  Self-paced on your time                         edX   \n",
       "1  Self-paced on your time  The University of Michigan   \n",
       "2  Self-paced on your time          Harvard University   \n",
       "\n",
       "                               instructors         Level  \\\n",
       "0  Nina Huntemann-Robyn Belair-Ben Piscopo  Introductory   \n",
       "1                        Charles Severance  Introductory   \n",
       "2       David J. Malan-Doug Lloyd-Brian Yu  Introductory   \n",
       "\n",
       "                        subject language subtitles        course_effort  \\\n",
       "0  Education & Teacher Training  English   English   2–3 hours per week   \n",
       "1              Computer Science  English   English   2–4 hours per week   \n",
       "2              Computer Science  English   English  6–18 hours per week   \n",
       "\n",
       "  course_length                                        price  \\\n",
       "0       2 Weeks  FREE-Add a Verified Certificate for $49 USD   \n",
       "1       7 Weeks  FREE-Add a Verified Certificate for $49 USD   \n",
       "2      12 Weeks  FREE-Add a Verified Certificate for $90 USD   \n",
       "\n",
       "                                  course_description  \\\n",
       "0  Designed for those who are new to elearning, t...   \n",
       "1  This course aims to teach everyone the basics ...   \n",
       "2  This is CS50x , Harvard University's introduct...   \n",
       "\n",
       "                                     course_syllabus  \\\n",
       "0  Welcome - We start with opportunities to meet ...   \n",
       "1                                                NaN   \n",
       "2                                                NaN   \n",
       "\n",
       "                                          course_url  \n",
       "0     https://www.edx.org/course/how-to-learn-online  \n",
       "1  https://www.edx.org/course/programming-for-eve...  \n",
       "2  https://www.edx.org/course/cs50s-introduction-...  "
      ]
     },
     "execution_count": 69,
     "metadata": {},
     "output_type": "execute_result"
    }
   ],
   "source": [
    "edx.head(3)"
   ]
  },
  {
   "attachments": {},
   "cell_type": "markdown",
   "metadata": {},
   "source": [
    "Descripción de las dimensiones de el dataframe 'edx'.\n",
    "\n",
    "* `title`: Titulo del curso\n",
    "* `summary`: Resumen de lo que trata el curso\n",
    "* `n_enrolled`: Alumnos inscritos\n",
    "* `course_type`:  Dos tipos: Dirigido por un instructor en un horario de curso / A su propio ritmo en su tiempo\n",
    "* `istitution`: Nombre de la institución que lo ofrece\n",
    "* `instructors`: Nombre de los instructores del curso\n",
    "* `Level`: Grado de dificultad del curso\n",
    "* `subject`: Área a la que pertenece el curso\n",
    "* `language`: Idioma del curso\n",
    "* `subtitles`: Subtitulos del curso\n",
    "* `course_effort`: Intesidad del curso por semana\n",
    "* `course_length`: Duración del curso \n",
    "* `price`: Precio del curso en USD\n",
    "* `course_description`: Descripcion del curso\n",
    "* `course_syllabus`: Temario del curso\n",
    "* `course_url`: Link del curso"
   ]
  },
  {
   "cell_type": "code",
   "execution_count": 70,
   "metadata": {},
   "outputs": [
    {
     "data": {
      "text/html": [
       "<div>\n",
       "<style scoped>\n",
       "    .dataframe tbody tr th:only-of-type {\n",
       "        vertical-align: middle;\n",
       "    }\n",
       "\n",
       "    .dataframe tbody tr th {\n",
       "        vertical-align: top;\n",
       "    }\n",
       "\n",
       "    .dataframe thead th {\n",
       "        text-align: right;\n",
       "    }\n",
       "</style>\n",
       "<table border=\"1\" class=\"dataframe\">\n",
       "  <thead>\n",
       "    <tr style=\"text-align: right;\">\n",
       "      <th></th>\n",
       "      <th>course_id</th>\n",
       "      <th>course_title</th>\n",
       "      <th>url</th>\n",
       "      <th>is_paid</th>\n",
       "      <th>price</th>\n",
       "      <th>num_subscribers</th>\n",
       "      <th>num_reviews</th>\n",
       "      <th>num_lectures</th>\n",
       "      <th>level</th>\n",
       "      <th>content_duration</th>\n",
       "      <th>published_timestamp</th>\n",
       "      <th>subject</th>\n",
       "    </tr>\n",
       "  </thead>\n",
       "  <tbody>\n",
       "    <tr>\n",
       "      <th>0</th>\n",
       "      <td>1070968</td>\n",
       "      <td>Ultimate Investment Banking Course</td>\n",
       "      <td>https://www.udemy.com/ultimate-investment-bank...</td>\n",
       "      <td>True</td>\n",
       "      <td>200</td>\n",
       "      <td>2147</td>\n",
       "      <td>23</td>\n",
       "      <td>51</td>\n",
       "      <td>All Levels</td>\n",
       "      <td>1.5</td>\n",
       "      <td>2017-01-18T20:58:58Z</td>\n",
       "      <td>Business Finance</td>\n",
       "    </tr>\n",
       "    <tr>\n",
       "      <th>1</th>\n",
       "      <td>1113822</td>\n",
       "      <td>Complete GST Course &amp; Certification - Grow You...</td>\n",
       "      <td>https://www.udemy.com/goods-and-services-tax/</td>\n",
       "      <td>True</td>\n",
       "      <td>75</td>\n",
       "      <td>2792</td>\n",
       "      <td>923</td>\n",
       "      <td>274</td>\n",
       "      <td>All Levels</td>\n",
       "      <td>39.0</td>\n",
       "      <td>2017-03-09T16:34:20Z</td>\n",
       "      <td>Business Finance</td>\n",
       "    </tr>\n",
       "    <tr>\n",
       "      <th>2</th>\n",
       "      <td>1006314</td>\n",
       "      <td>Financial Modeling for Business Analysts and C...</td>\n",
       "      <td>https://www.udemy.com/financial-modeling-for-b...</td>\n",
       "      <td>True</td>\n",
       "      <td>45</td>\n",
       "      <td>2174</td>\n",
       "      <td>74</td>\n",
       "      <td>51</td>\n",
       "      <td>Intermediate Level</td>\n",
       "      <td>2.5</td>\n",
       "      <td>2016-12-19T19:26:30Z</td>\n",
       "      <td>Business Finance</td>\n",
       "    </tr>\n",
       "  </tbody>\n",
       "</table>\n",
       "</div>"
      ],
      "text/plain": [
       "   course_id                                       course_title  \\\n",
       "0    1070968                 Ultimate Investment Banking Course   \n",
       "1    1113822  Complete GST Course & Certification - Grow You...   \n",
       "2    1006314  Financial Modeling for Business Analysts and C...   \n",
       "\n",
       "                                                 url  is_paid  price  \\\n",
       "0  https://www.udemy.com/ultimate-investment-bank...     True    200   \n",
       "1      https://www.udemy.com/goods-and-services-tax/     True     75   \n",
       "2  https://www.udemy.com/financial-modeling-for-b...     True     45   \n",
       "\n",
       "   num_subscribers  num_reviews  num_lectures               level  \\\n",
       "0             2147           23            51          All Levels   \n",
       "1             2792          923           274          All Levels   \n",
       "2             2174           74            51  Intermediate Level   \n",
       "\n",
       "   content_duration   published_timestamp           subject  \n",
       "0               1.5  2017-01-18T20:58:58Z  Business Finance  \n",
       "1              39.0  2017-03-09T16:34:20Z  Business Finance  \n",
       "2               2.5  2016-12-19T19:26:30Z  Business Finance  "
      ]
     },
     "execution_count": 70,
     "metadata": {},
     "output_type": "execute_result"
    }
   ],
   "source": [
    "udemy.head(3)"
   ]
  },
  {
   "attachments": {},
   "cell_type": "markdown",
   "metadata": {},
   "source": [
    "Descripción de las dimensiones de el dataframe 'udemy'.\n",
    "\n",
    "* `course_id`: Id del curso\n",
    "* `course_title`: Titulo del curso\n",
    "* `url`: Link del curso\n",
    "* `is_paid`:  Si el curso es pago o no\n",
    "* `price`: Precio del curso en USD\n",
    "* `num_subscribers`: Número de estudiantes inscritos\n",
    "* `num_reviews`: Número de reseñas del curso\n",
    "* `num_lectures`: Lecturas del curso\n",
    "* `level`: Nivel de dificultad del curso\n",
    "* `content_duration`: Duracion del curso en horas\n",
    "* `published_timestamp`: Fecha de publicación del curso\n",
    "* `subject`: Área a la que pertenece el curso "
   ]
  },
  {
   "attachments": {},
   "cell_type": "markdown",
   "metadata": {},
   "source": [
    "EDA para el dataframe 'cousera'"
   ]
  },
  {
   "attachments": {},
   "cell_type": "markdown",
   "metadata": {},
   "source": [
    "Limpieza de datos: Tratamos valores faltantes, duplicados y outliers."
   ]
  },
  {
   "cell_type": "code",
   "execution_count": 71,
   "metadata": {},
   "outputs": [
    {
     "name": "stdout",
     "output_type": "stream",
     "text": [
      "<class 'pandas.core.frame.DataFrame'>\n",
      "RangeIndex: 623 entries, 0 to 622\n",
      "Data columns (total 4 columns):\n",
      " #   Column       Non-Null Count  Dtype \n",
      "---  ------       --------------  ----- \n",
      " 0   name         623 non-null    object\n",
      " 1   institution  623 non-null    object\n",
      " 2   course_url   623 non-null    object\n",
      " 3   course_id    623 non-null    object\n",
      "dtypes: object(4)\n",
      "memory usage: 19.6+ KB\n"
     ]
    }
   ],
   "source": [
    "coursera.info()"
   ]
  },
  {
   "cell_type": "code",
   "execution_count": 72,
   "metadata": {},
   "outputs": [
    {
     "data": {
      "text/plain": [
       "Introduction to Psychology                                                2\n",
       "Machine Learning                                                          1\n",
       "Career 911: Your Future Job in Medicine and Healthcare                    1\n",
       "Introduction to Trading, Machine Learning & GCP                           1\n",
       "Python Programming: A Concise Introduction                                1\n",
       "                                                                         ..\n",
       "Building Scalable Java Microservices with Spring Boot and Spring Cloud    1\n",
       "Introduction to Forensic Science                                          1\n",
       "Google Cloud Product Fundamentals                                         1\n",
       "American Contract Law I                                                   1\n",
       "A Crash Course in Data Science                                            1\n",
       "Name: name, Length: 622, dtype: int64"
      ]
     },
     "execution_count": 72,
     "metadata": {},
     "output_type": "execute_result"
    }
   ],
   "source": [
    "coursera['name'].value_counts(ascending=False)"
   ]
  },
  {
   "attachments": {},
   "cell_type": "markdown",
   "metadata": {},
   "source": [
    "Veamos si el curso 'Introduction to Psychology' está repetido."
   ]
  },
  {
   "cell_type": "code",
   "execution_count": 73,
   "metadata": {},
   "outputs": [
    {
     "data": {
      "text/html": [
       "<div>\n",
       "<style scoped>\n",
       "    .dataframe tbody tr th:only-of-type {\n",
       "        vertical-align: middle;\n",
       "    }\n",
       "\n",
       "    .dataframe tbody tr th {\n",
       "        vertical-align: top;\n",
       "    }\n",
       "\n",
       "    .dataframe thead th {\n",
       "        text-align: right;\n",
       "    }\n",
       "</style>\n",
       "<table border=\"1\" class=\"dataframe\">\n",
       "  <thead>\n",
       "    <tr style=\"text-align: right;\">\n",
       "      <th></th>\n",
       "      <th>name</th>\n",
       "      <th>institution</th>\n",
       "      <th>course_url</th>\n",
       "      <th>course_id</th>\n",
       "    </tr>\n",
       "  </thead>\n",
       "  <tbody>\n",
       "    <tr>\n",
       "      <th>6</th>\n",
       "      <td>Introduction to Psychology</td>\n",
       "      <td>Yale University</td>\n",
       "      <td>https://www.coursera.org/learn/introduction-ps...</td>\n",
       "      <td>introduction-psychology</td>\n",
       "    </tr>\n",
       "    <tr>\n",
       "      <th>54</th>\n",
       "      <td>Introduction to Psychology</td>\n",
       "      <td>University of Toronto</td>\n",
       "      <td>https://www.coursera.org/learn/introduction-psych</td>\n",
       "      <td>introduction-psych</td>\n",
       "    </tr>\n",
       "  </tbody>\n",
       "</table>\n",
       "</div>"
      ],
      "text/plain": [
       "                          name            institution  \\\n",
       "6   Introduction to Psychology        Yale University   \n",
       "54  Introduction to Psychology  University of Toronto   \n",
       "\n",
       "                                           course_url                course_id  \n",
       "6   https://www.coursera.org/learn/introduction-ps...  introduction-psychology  \n",
       "54  https://www.coursera.org/learn/introduction-psych       introduction-psych  "
      ]
     },
     "execution_count": 73,
     "metadata": {},
     "output_type": "execute_result"
    }
   ],
   "source": [
    "coursera[coursera['name']== 'Introduction to Psychology']"
   ]
  },
  {
   "attachments": {},
   "cell_type": "markdown",
   "metadata": {},
   "source": [
    "vemos que son diferentes universidades y ids, por tanto no lo borramos."
   ]
  },
  {
   "cell_type": "code",
   "execution_count": 74,
   "metadata": {},
   "outputs": [
    {
     "data": {
      "text/plain": [
       "machine-learning                             1\n",
       "english-composition                          1\n",
       "wharton-communication-skills                 1\n",
       "introduction-trading-machine-learning-gcp    1\n",
       "python-programming-introduction              1\n",
       "                                            ..\n",
       "solar-energy-basics                          1\n",
       "bootstrap-4                                  1\n",
       "google-cloud-java-spring                     1\n",
       "forensic-science                             1\n",
       "data-science-course                          1\n",
       "Name: course_id, Length: 623, dtype: int64"
      ]
     },
     "execution_count": 74,
     "metadata": {},
     "output_type": "execute_result"
    }
   ],
   "source": [
    "coursera['course_id'].value_counts(ascending=False)"
   ]
  },
  {
   "attachments": {},
   "cell_type": "markdown",
   "metadata": {},
   "source": [
    "Observamos que no hay nulos, duplicados o faltantes y como todas las variables son de type object, no podemos graficar. "
   ]
  },
  {
   "attachments": {},
   "cell_type": "markdown",
   "metadata": {},
   "source": [
    "vamos a definir la siguiente función que nos ayudara a detectar el lenguaje del curso de acuerdo al idioma del titulo"
   ]
  },
  {
   "cell_type": "code",
   "execution_count": 75,
   "metadata": {},
   "outputs": [],
   "source": [
    "# pip instal langdetect \n",
    "\n",
    "from langdetect import detect\n",
    "\n",
    "#definimos una funcion que nos ayuda a crear la columna 'language' de acuerdo al idioma del titulo\n",
    "\n",
    "def detect_language(title):\n",
    "    try:\n",
    "        lang = detect(title)\n",
    "        if lang == 'en':\n",
    "            return 'English'\n",
    "        elif lang == 'es':\n",
    "            return 'Español'\n",
    "        elif lang == 'de':\n",
    "            return 'Deutsch'\n",
    "        elif lang == 'fr':\n",
    "            return 'Français'\n",
    "        elif lang == 'it':\n",
    "            return 'Italiano'\n",
    "        elif lang == 'pt':\n",
    "            return 'Português'\n",
    "        elif lang == 'ar':\n",
    "            return 'اللغة العربية'\n",
    "        elif lang == 'zh':\n",
    "            return '中文'\n",
    "        elif lang == 'ja':\n",
    "            return '日本語'\n",
    "        else:\n",
    "            return 'Other'\n",
    "    except:\n",
    "        return 'Other'"
   ]
  },
  {
   "cell_type": "code",
   "execution_count": 76,
   "metadata": {},
   "outputs": [],
   "source": [
    "coursera['language']=coursera['name'].apply(detect_language)"
   ]
  },
  {
   "attachments": {},
   "cell_type": "markdown",
   "metadata": {},
   "source": [
    "finalmente, pasamos nuestro primer datafrme a formato csv para posterior análisis en Power bi."
   ]
  },
  {
   "cell_type": "code",
   "execution_count": 77,
   "metadata": {},
   "outputs": [],
   "source": [
    "coursera.to_csv('coursera_courses.csv',columns=['name','institution','course_url','course_id','language'])"
   ]
  },
  {
   "attachments": {},
   "cell_type": "markdown",
   "metadata": {},
   "source": [
    "EDA para el dataframe 'coursera_rew'."
   ]
  },
  {
   "cell_type": "code",
   "execution_count": 78,
   "metadata": {},
   "outputs": [
    {
     "name": "stdout",
     "output_type": "stream",
     "text": [
      "<class 'pandas.core.frame.DataFrame'>\n",
      "RangeIndex: 1454711 entries, 0 to 1454710\n",
      "Data columns (total 5 columns):\n",
      " #   Column        Non-Null Count    Dtype \n",
      "---  ------        --------------    ----- \n",
      " 0   reviews       1454571 non-null  object\n",
      " 1   reviewers     1454711 non-null  object\n",
      " 2   date_reviews  1454711 non-null  object\n",
      " 3   rating        1454711 non-null  int64 \n",
      " 4   course_id     1454711 non-null  object\n",
      "dtypes: int64(1), object(4)\n",
      "memory usage: 55.5+ MB\n"
     ]
    }
   ],
   "source": [
    "coursera_rew.info()"
   ]
  },
  {
   "attachments": {},
   "cell_type": "markdown",
   "metadata": {},
   "source": [
    "Limpieza de datos: Tratamos valores faltantes, duplicados y outliers."
   ]
  },
  {
   "cell_type": "code",
   "execution_count": 79,
   "metadata": {},
   "outputs": [
    {
     "data": {
      "text/plain": [
       "reviews         140\n",
       "reviewers         0\n",
       "date_reviews      0\n",
       "rating            0\n",
       "course_id         0\n",
       "dtype: int64"
      ]
     },
     "execution_count": 79,
     "metadata": {},
     "output_type": "execute_result"
    }
   ],
   "source": [
    "coursera_rew.isnull().sum()"
   ]
  },
  {
   "attachments": {},
   "cell_type": "markdown",
   "metadata": {},
   "source": [
    "Veamos los registros nulos"
   ]
  },
  {
   "cell_type": "code",
   "execution_count": 80,
   "metadata": {},
   "outputs": [
    {
     "data": {
      "text/html": [
       "<div>\n",
       "<style scoped>\n",
       "    .dataframe tbody tr th:only-of-type {\n",
       "        vertical-align: middle;\n",
       "    }\n",
       "\n",
       "    .dataframe tbody tr th {\n",
       "        vertical-align: top;\n",
       "    }\n",
       "\n",
       "    .dataframe thead th {\n",
       "        text-align: right;\n",
       "    }\n",
       "</style>\n",
       "<table border=\"1\" class=\"dataframe\">\n",
       "  <thead>\n",
       "    <tr style=\"text-align: right;\">\n",
       "      <th></th>\n",
       "      <th>reviews</th>\n",
       "      <th>reviewers</th>\n",
       "      <th>date_reviews</th>\n",
       "      <th>rating</th>\n",
       "      <th>course_id</th>\n",
       "    </tr>\n",
       "  </thead>\n",
       "  <tbody>\n",
       "    <tr>\n",
       "      <th>73671</th>\n",
       "      <td>NaN</td>\n",
       "      <td>By Christopher L J</td>\n",
       "      <td>Sep 26, 2020</td>\n",
       "      <td>5</td>\n",
       "      <td>computer-networking</td>\n",
       "    </tr>\n",
       "    <tr>\n",
       "      <th>73680</th>\n",
       "      <td>NaN</td>\n",
       "      <td>By Jerold K G</td>\n",
       "      <td>Jun 10, 2020</td>\n",
       "      <td>5</td>\n",
       "      <td>computer-networking</td>\n",
       "    </tr>\n",
       "    <tr>\n",
       "      <th>95147</th>\n",
       "      <td>NaN</td>\n",
       "      <td>By t. d k</td>\n",
       "      <td>Jun 27, 2020</td>\n",
       "      <td>5</td>\n",
       "      <td>ai-for-everyone</td>\n",
       "    </tr>\n",
       "    <tr>\n",
       "      <th>95152</th>\n",
       "      <td>NaN</td>\n",
       "      <td>By KODATHALA S V</td>\n",
       "      <td>May 29, 2020</td>\n",
       "      <td>5</td>\n",
       "      <td>ai-for-everyone</td>\n",
       "    </tr>\n",
       "    <tr>\n",
       "      <th>95172</th>\n",
       "      <td>NaN</td>\n",
       "      <td>By t. d k</td>\n",
       "      <td>Jun 27, 2020</td>\n",
       "      <td>5</td>\n",
       "      <td>ai-for-everyone</td>\n",
       "    </tr>\n",
       "    <tr>\n",
       "      <th>...</th>\n",
       "      <td>...</td>\n",
       "      <td>...</td>\n",
       "      <td>...</td>\n",
       "      <td>...</td>\n",
       "      <td>...</td>\n",
       "    </tr>\n",
       "    <tr>\n",
       "      <th>1422276</th>\n",
       "      <td>NaN</td>\n",
       "      <td>By Ritu K</td>\n",
       "      <td>Aug 04, 2020</td>\n",
       "      <td>4</td>\n",
       "      <td>technical-support-fundamentals</td>\n",
       "    </tr>\n",
       "    <tr>\n",
       "      <th>1454669</th>\n",
       "      <td>NaN</td>\n",
       "      <td>By Christopher L J</td>\n",
       "      <td>Sep 26, 2020</td>\n",
       "      <td>5</td>\n",
       "      <td>computer-networking</td>\n",
       "    </tr>\n",
       "    <tr>\n",
       "      <th>1454678</th>\n",
       "      <td>NaN</td>\n",
       "      <td>By Jerold K G</td>\n",
       "      <td>Jun 10, 2020</td>\n",
       "      <td>5</td>\n",
       "      <td>computer-networking</td>\n",
       "    </tr>\n",
       "    <tr>\n",
       "      <th>1454691</th>\n",
       "      <td>NaN</td>\n",
       "      <td>By Christopher L J</td>\n",
       "      <td>Sep 26, 2020</td>\n",
       "      <td>5</td>\n",
       "      <td>computer-networking</td>\n",
       "    </tr>\n",
       "    <tr>\n",
       "      <th>1454700</th>\n",
       "      <td>NaN</td>\n",
       "      <td>By Jerold K G</td>\n",
       "      <td>Jun 10, 2020</td>\n",
       "      <td>5</td>\n",
       "      <td>computer-networking</td>\n",
       "    </tr>\n",
       "  </tbody>\n",
       "</table>\n",
       "<p>140 rows × 5 columns</p>\n",
       "</div>"
      ],
      "text/plain": [
       "        reviews           reviewers  date_reviews  rating  \\\n",
       "73671       NaN  By Christopher L J  Sep 26, 2020       5   \n",
       "73680       NaN       By Jerold K G  Jun 10, 2020       5   \n",
       "95147       NaN           By t. d k  Jun 27, 2020       5   \n",
       "95152       NaN    By KODATHALA S V  May 29, 2020       5   \n",
       "95172       NaN           By t. d k  Jun 27, 2020       5   \n",
       "...         ...                 ...           ...     ...   \n",
       "1422276     NaN           By Ritu K  Aug 04, 2020       4   \n",
       "1454669     NaN  By Christopher L J  Sep 26, 2020       5   \n",
       "1454678     NaN       By Jerold K G  Jun 10, 2020       5   \n",
       "1454691     NaN  By Christopher L J  Sep 26, 2020       5   \n",
       "1454700     NaN       By Jerold K G  Jun 10, 2020       5   \n",
       "\n",
       "                              course_id  \n",
       "73671               computer-networking  \n",
       "73680               computer-networking  \n",
       "95147                   ai-for-everyone  \n",
       "95152                   ai-for-everyone  \n",
       "95172                   ai-for-everyone  \n",
       "...                                 ...  \n",
       "1422276  technical-support-fundamentals  \n",
       "1454669             computer-networking  \n",
       "1454678             computer-networking  \n",
       "1454691             computer-networking  \n",
       "1454700             computer-networking  \n",
       "\n",
       "[140 rows x 5 columns]"
      ]
     },
     "execution_count": 80,
     "metadata": {},
     "output_type": "execute_result"
    }
   ],
   "source": [
    "coursera_rew[coursera_rew.isnull().any(axis=1)]"
   ]
  },
  {
   "attachments": {},
   "cell_type": "markdown",
   "metadata": {},
   "source": [
    "Rellenamos los valores nulos de la columna 'reviews' con la frase 'sin reseña'."
   ]
  },
  {
   "cell_type": "code",
   "execution_count": 81,
   "metadata": {},
   "outputs": [],
   "source": [
    "coursera_rew['reviews'].fillna('sin reseña', inplace=True)"
   ]
  },
  {
   "cell_type": "code",
   "execution_count": 82,
   "metadata": {},
   "outputs": [
    {
     "data": {
      "text/plain": [
       "good                                                                                                                                                                                                                                                                                                                                                          8827\n",
       "Good                                                                                                                                                                                                                                                                                                                                                          5445\n",
       "Excellent                                                                                                                                                                                                                                                                                                                                                     3678\n",
       "Great course!                                                                                                                                                                                                                                                                                                                                                 2446\n",
       "great                                                                                                                                                                                                                                                                                                                                                         2151\n",
       "                                                                                                                                                                                                                                                                                                                                                              ... \n",
       "i have completed all 5 courses of this series,  i am proud of myself                                                                                                                                                                                                                                                                                             1\n",
       "That's really an integrated practice of all the skills learnt before!                                                                                                                                                                                                                                                                                            1\n",
       "Very helpful. I learned to build my first data visualization project.                                                                                                                                                                                                                                                                                            1\n",
       "Thank you, it has been wonderful learning from Dr. Chuck about python                                                                                                                                                                                                                                                                                            1\n",
       "Pretty dry, but I was able to pass with just two complete watches so I'm happy about that.  As usual there were some questions on the final exam that were NO WHERE in the course, which is annoying but far better than many microsoft tests I have taken.  Never found the suplimental material that the course references... but who cares... i passed!       1\n",
       "Name: reviews, Length: 458278, dtype: int64"
      ]
     },
     "execution_count": 82,
     "metadata": {},
     "output_type": "execute_result"
    }
   ],
   "source": [
    "coursera_rew['reviews'].value_counts()"
   ]
  },
  {
   "attachments": {},
   "cell_type": "markdown",
   "metadata": {},
   "source": [
    "Vemos que algunas palabras son las mismas pero estan repetidas, vamos a normalizarlas."
   ]
  },
  {
   "cell_type": "code",
   "execution_count": 83,
   "metadata": {},
   "outputs": [],
   "source": [
    "# eliminamos los espacios iniciales y finales de la columa 'reviews'\n",
    "\n",
    "coursera_rew[\"reviews\"] = coursera_rew[\"reviews\"].str.lstrip()\n",
    "coursera_rew[\"reviews\"] = coursera_rew[\"reviews\"].str.rstrip()\n",
    "\n",
    "#eliminamos caracteres especiales de la columa 'reviews'\n",
    "coursera_rew[\"reviews\"] = coursera_rew[\"reviews\"].str.lstrip('.!? \"')\n",
    "coursera_rew[\"reviews\"] = coursera_rew[\"reviews\"].str.rstrip('.!? \"')\n",
    "\n",
    "#pasamos la columna 'reviews' a minusculas \n",
    "coursera_rew[\"reviews\"] = coursera_rew[\"reviews\"].str.lower()"
   ]
  },
  {
   "cell_type": "code",
   "execution_count": 84,
   "metadata": {},
   "outputs": [],
   "source": [
    "#creamos una funcion para unifcar las palabras parecidas, como 'good' y 'good course'\n",
    "\n",
    "def replace_words(sentence, old_word, new_word):\n",
    "    for word in old_word:\n",
    "        sentence = sentence.replace(word, new_word)\n",
    "    return sentence"
   ]
  },
  {
   "cell_type": "code",
   "execution_count": 85,
   "metadata": {},
   "outputs": [],
   "source": [
    "old_word = ['excellent course', 'excelente curso', 'excelente', 'excelent']\n",
    "new_word ='excellent'\n",
    "coursera_rew['reviews'] = coursera_rew['reviews'].apply(lambda x: replace_words(x, old_word, new_word))\n",
    "\n",
    "old_word= ['good course']\n",
    "new_word= 'good'\n",
    "coursera_rew['reviews'] = coursera_rew['reviews'].apply(lambda x: replace_words(x, old_word, new_word))\n",
    "\n",
    "old_word= ['great course']\n",
    "new_word= 'great'\n",
    "coursera_rew['reviews'] = coursera_rew['reviews'].apply(lambda x: replace_words(x, old_word, new_word))\n",
    "\n",
    "old_word= ['nice course']\n",
    "new_word= 'nice'\n",
    "coursera_rew['reviews'] = coursera_rew['reviews'].apply(lambda x: replace_words(x, old_word, new_word))\n",
    "\n",
    "old_word= ['muy bueno', 'muy buen curso']\n",
    "new_word= 'very good'\n",
    "coursera_rew['reviews'] = coursera_rew['reviews'].apply(lambda x: replace_words(x, old_word, new_word))\n",
    "\n",
    "old_word= ['very nice course']\n",
    "new_word= 'very nice'\n",
    "coursera_rew['reviews'] = coursera_rew['reviews'].apply(lambda x: replace_words(x, old_word, new_word))\n",
    "\n",
    "old_word= ['amazing course']\n",
    "new_word= 'amazing'\n",
    "coursera_rew['reviews'] = coursera_rew['reviews'].apply(lambda x: replace_words(x, old_word, new_word))"
   ]
  },
  {
   "cell_type": "code",
   "execution_count": 86,
   "metadata": {},
   "outputs": [
    {
     "name": "stdout",
     "output_type": "stream",
     "text": [
      "excellent                  28194\n",
      "good                       22353\n",
      "great                      19006\n",
      "very good                  10378\n",
      "nice                        7235\n",
      "amazing                     4367\n",
      "awesome                     3804\n",
      "thank you                   2378\n",
      "awesome course              2120\n",
      "very nice                   1937\n",
      "very useful                 1694\n",
      "thanks                      1598\n",
      "very informative            1541\n",
      "very helpful                1536\n",
      "                            1080\n",
      "perfect                     1052\n",
      "great experience             852\n",
      "best course                  837\n",
      "very useful course           804\n",
      "good for beginners           797\n",
      "very interesting             792\n",
      "loved it                     763\n",
      "best                         754\n",
      "g                            714\n",
      "fantastic                    710\n",
      "super                        688\n",
      "ok                           645\n",
      "very interesting course      635\n",
      "wonderful course             622\n",
      "good one                     588\n",
      "Name: reviews, dtype: int64\n"
     ]
    }
   ],
   "source": [
    "review=coursera_rew['reviews'].value_counts()\n",
    "print(review.head(30))"
   ]
  },
  {
   "attachments": {},
   "cell_type": "markdown",
   "metadata": {},
   "source": [
    "Ahora veamos la columna 'reviewers'"
   ]
  },
  {
   "cell_type": "code",
   "execution_count": 87,
   "metadata": {},
   "outputs": [
    {
     "data": {
      "text/plain": [
       "By Deleted A     5412\n",
       "By Muhammad A     649\n",
       "By Abhishek S     440\n",
       "By David M        435\n",
       "By Michael S      431\n",
       "                 ... \n",
       "By Calvin N         1\n",
       "By Kachan O V       1\n",
       "By Tan S X A        1\n",
       "By Yusong S         1\n",
       "By Yu-Jhen-Wu       1\n",
       "Name: reviewers, Length: 287808, dtype: int64"
      ]
     },
     "execution_count": 87,
     "metadata": {},
     "output_type": "execute_result"
    }
   ],
   "source": [
    "coursera_rew['reviewers'].value_counts(ascending=False)"
   ]
  },
  {
   "attachments": {},
   "cell_type": "markdown",
   "metadata": {},
   "source": [
    "La mayoria de comentarios no exceden los 1000 por persona, pero hay una persona con más de 5000 reseñas lo que es inusual. Veamos estos registros más detalladamente."
   ]
  },
  {
   "cell_type": "code",
   "execution_count": 88,
   "metadata": {},
   "outputs": [
    {
     "data": {
      "text/html": [
       "<div>\n",
       "<style scoped>\n",
       "    .dataframe tbody tr th:only-of-type {\n",
       "        vertical-align: middle;\n",
       "    }\n",
       "\n",
       "    .dataframe tbody tr th {\n",
       "        vertical-align: top;\n",
       "    }\n",
       "\n",
       "    .dataframe thead th {\n",
       "        text-align: right;\n",
       "    }\n",
       "</style>\n",
       "<table border=\"1\" class=\"dataframe\">\n",
       "  <thead>\n",
       "    <tr style=\"text-align: right;\">\n",
       "      <th></th>\n",
       "      <th>reviews</th>\n",
       "      <th>reviewers</th>\n",
       "      <th>date_reviews</th>\n",
       "      <th>rating</th>\n",
       "      <th>course_id</th>\n",
       "    </tr>\n",
       "  </thead>\n",
       "  <tbody>\n",
       "    <tr>\n",
       "      <th>186</th>\n",
       "      <td>i didn't get any certificate after my court we...</td>\n",
       "      <td>By Deleted A</td>\n",
       "      <td>Jun 18, 2020</td>\n",
       "      <td>2</td>\n",
       "      <td>financial-markets-global</td>\n",
       "    </tr>\n",
       "    <tr>\n",
       "      <th>203</th>\n",
       "      <td>i didn't get any certificate after my court we...</td>\n",
       "      <td>By Deleted A</td>\n",
       "      <td>Jun 18, 2020</td>\n",
       "      <td>2</td>\n",
       "      <td>financial-markets-global</td>\n",
       "    </tr>\n",
       "    <tr>\n",
       "      <th>220</th>\n",
       "      <td>i didn't get any certificate after my court we...</td>\n",
       "      <td>By Deleted A</td>\n",
       "      <td>Jun 18, 2020</td>\n",
       "      <td>2</td>\n",
       "      <td>financial-markets-global</td>\n",
       "    </tr>\n",
       "    <tr>\n",
       "      <th>1456</th>\n",
       "      <td>i thoroughly enjoyed this course on financial ...</td>\n",
       "      <td>By Deleted A</td>\n",
       "      <td>Oct 14, 2018</td>\n",
       "      <td>5</td>\n",
       "      <td>financial-markets-global</td>\n",
       "    </tr>\n",
       "    <tr>\n",
       "      <th>1481</th>\n",
       "      <td>i thoroughly enjoyed this course on financial ...</td>\n",
       "      <td>By Deleted A</td>\n",
       "      <td>Oct 14, 2018</td>\n",
       "      <td>5</td>\n",
       "      <td>financial-markets-global</td>\n",
       "    </tr>\n",
       "    <tr>\n",
       "      <th>...</th>\n",
       "      <td>...</td>\n",
       "      <td>...</td>\n",
       "      <td>...</td>\n",
       "      <td>...</td>\n",
       "      <td>...</td>\n",
       "    </tr>\n",
       "    <tr>\n",
       "      <th>1454013</th>\n",
       "      <td>it is one of the best courses for absolute beg...</td>\n",
       "      <td>By Deleted A</td>\n",
       "      <td>Jun 06, 2020</td>\n",
       "      <td>5</td>\n",
       "      <td>python</td>\n",
       "    </tr>\n",
       "    <tr>\n",
       "      <th>1454020</th>\n",
       "      <td>it is one of the best courses for absolute beg...</td>\n",
       "      <td>By Deleted A</td>\n",
       "      <td>Jun 06, 2020</td>\n",
       "      <td>5</td>\n",
       "      <td>python</td>\n",
       "    </tr>\n",
       "    <tr>\n",
       "      <th>1454217</th>\n",
       "      <td>total a waste of time, i completed this certif...</td>\n",
       "      <td>By Deleted A</td>\n",
       "      <td>May 01, 2020</td>\n",
       "      <td>1</td>\n",
       "      <td>computer-networking</td>\n",
       "    </tr>\n",
       "    <tr>\n",
       "      <th>1454376</th>\n",
       "      <td></td>\n",
       "      <td>By Deleted A</td>\n",
       "      <td>Jul 04, 2020</td>\n",
       "      <td>4</td>\n",
       "      <td>computer-networking</td>\n",
       "    </tr>\n",
       "    <tr>\n",
       "      <th>1454385</th>\n",
       "      <td></td>\n",
       "      <td>By Deleted A</td>\n",
       "      <td>Jul 04, 2020</td>\n",
       "      <td>4</td>\n",
       "      <td>computer-networking</td>\n",
       "    </tr>\n",
       "  </tbody>\n",
       "</table>\n",
       "<p>5412 rows × 5 columns</p>\n",
       "</div>"
      ],
      "text/plain": [
       "                                                   reviews     reviewers  \\\n",
       "186      i didn't get any certificate after my court we...  By Deleted A   \n",
       "203      i didn't get any certificate after my court we...  By Deleted A   \n",
       "220      i didn't get any certificate after my court we...  By Deleted A   \n",
       "1456     i thoroughly enjoyed this course on financial ...  By Deleted A   \n",
       "1481     i thoroughly enjoyed this course on financial ...  By Deleted A   \n",
       "...                                                    ...           ...   \n",
       "1454013  it is one of the best courses for absolute beg...  By Deleted A   \n",
       "1454020  it is one of the best courses for absolute beg...  By Deleted A   \n",
       "1454217  total a waste of time, i completed this certif...  By Deleted A   \n",
       "1454376                                                     By Deleted A   \n",
       "1454385                                                     By Deleted A   \n",
       "\n",
       "         date_reviews  rating                 course_id  \n",
       "186      Jun 18, 2020       2  financial-markets-global  \n",
       "203      Jun 18, 2020       2  financial-markets-global  \n",
       "220      Jun 18, 2020       2  financial-markets-global  \n",
       "1456     Oct 14, 2018       5  financial-markets-global  \n",
       "1481     Oct 14, 2018       5  financial-markets-global  \n",
       "...               ...     ...                       ...  \n",
       "1454013  Jun 06, 2020       5                    python  \n",
       "1454020  Jun 06, 2020       5                    python  \n",
       "1454217  May 01, 2020       1       computer-networking  \n",
       "1454376  Jul 04, 2020       4       computer-networking  \n",
       "1454385  Jul 04, 2020       4       computer-networking  \n",
       "\n",
       "[5412 rows x 5 columns]"
      ]
     },
     "execution_count": 88,
     "metadata": {},
     "output_type": "execute_result"
    }
   ],
   "source": [
    "coursera_rew[coursera_rew['reviewers']=='By Deleted A']"
   ]
  },
  {
   "attachments": {},
   "cell_type": "markdown",
   "metadata": {},
   "source": [
    "Como hay varias reseñas repetidas vamos a eliminar duplicados y nos quedamos con la primera reseña."
   ]
  },
  {
   "cell_type": "code",
   "execution_count": 89,
   "metadata": {},
   "outputs": [],
   "source": [
    "coursera_rew.drop_duplicates(subset=[\"reviews\"], keep='first', inplace=True)"
   ]
  },
  {
   "cell_type": "code",
   "execution_count": 90,
   "metadata": {},
   "outputs": [
    {
     "name": "stdout",
     "output_type": "stream",
     "text": [
      "<class 'pandas.core.frame.DataFrame'>\n",
      "Int64Index: 439915 entries, 0 to 1454563\n",
      "Data columns (total 5 columns):\n",
      " #   Column        Non-Null Count   Dtype \n",
      "---  ------        --------------   ----- \n",
      " 0   reviews       439915 non-null  object\n",
      " 1   reviewers     439915 non-null  object\n",
      " 2   date_reviews  439915 non-null  object\n",
      " 3   rating        439915 non-null  int64 \n",
      " 4   course_id     439915 non-null  object\n",
      "dtypes: int64(1), object(4)\n",
      "memory usage: 20.1+ MB\n"
     ]
    }
   ],
   "source": [
    "coursera_rew.info()"
   ]
  },
  {
   "attachments": {},
   "cell_type": "markdown",
   "metadata": {},
   "source": [
    "Ahora, vamos a graficar un histograma para ver la distribución de la columna 'rating'."
   ]
  },
  {
   "cell_type": "code",
   "execution_count": 91,
   "metadata": {},
   "outputs": [
    {
     "data": {
      "image/png": "[encoded data removed]",
      "text/plain": [
       "<Figure size 432x288 with 1 Axes>"
      ]
     },
     "metadata": {
      "needs_background": "light"
     },
     "output_type": "display_data"
    }
   ],
   "source": [
    "# seleccionamos la variable para crear un histograma\n",
    "variable = coursera_rew[\"rating\"]\n",
    "\n",
    "# crea el histograma\n",
    "plt.hist(variable, bins=30, edgecolor='black')\n",
    "\n",
    "# agrega título y etiquetas de eje\n",
    "plt.title(\"Distribución de la variable 'rating'\", color='purple')\n",
    "plt.xlabel(\"rating\")\n",
    "plt.ylabel(\"frecuencia\")\n",
    "\n",
    "# muestra el histograma\n",
    "plt.show()\n"
   ]
  },
  {
   "attachments": {},
   "cell_type": "markdown",
   "metadata": {},
   "source": [
    "Del grafico vemos que la calificacion con mayor frecuencia es de 5, como era de esperarse ya que los cursos son ofrecidos por universidas e instituciones reconocidas a nivel mundial. Además, se observa que no hay outliers en la columa 'rating'. "
   ]
  },
  {
   "attachments": {},
   "cell_type": "markdown",
   "metadata": {},
   "source": [
    "Pasamos la columna 'date_reviews' a formato datetime"
   ]
  },
  {
   "cell_type": "code",
   "execution_count": 92,
   "metadata": {},
   "outputs": [],
   "source": [
    "coursera_rew['date_reviews'] = pd.to_datetime(coursera_rew['date_reviews'])"
   ]
  },
  {
   "attachments": {},
   "cell_type": "markdown",
   "metadata": {},
   "source": [
    "Finalmente exportamos nuestro dataframe en formato csv para futuro análisis en Power Bi."
   ]
  },
  {
   "cell_type": "code",
   "execution_count": 93,
   "metadata": {},
   "outputs": [],
   "source": [
    "coursera_rew.to_csv('coursera_reviews.csv', columns=['reviews','reviewers','date_reviews', 'rating', 'course_id'], index_label='course_id', index=False)"
   ]
  },
  {
   "attachments": {},
   "cell_type": "markdown",
   "metadata": {},
   "source": [
    "EDA para el dataframe 'edx'."
   ]
  },
  {
   "cell_type": "code",
   "execution_count": 94,
   "metadata": {},
   "outputs": [
    {
     "name": "stdout",
     "output_type": "stream",
     "text": [
      "<class 'pandas.core.frame.DataFrame'>\n",
      "RangeIndex: 975 entries, 0 to 974\n",
      "Data columns (total 16 columns):\n",
      " #   Column              Non-Null Count  Dtype \n",
      "---  ------              --------------  ----- \n",
      " 0   title               975 non-null    object\n",
      " 1   summary             922 non-null    object\n",
      " 2   n_enrolled          855 non-null    object\n",
      " 3   course_type         975 non-null    object\n",
      " 4   institution         975 non-null    object\n",
      " 5   instructors         972 non-null    object\n",
      " 6   Level               975 non-null    object\n",
      " 7   subject             975 non-null    object\n",
      " 8   language            975 non-null    object\n",
      " 9   subtitles           972 non-null    object\n",
      " 10  course_effort       975 non-null    object\n",
      " 11  course_length       975 non-null    object\n",
      " 12  price               975 non-null    object\n",
      " 13  course_description  935 non-null    object\n",
      " 14  course_syllabus     417 non-null    object\n",
      " 15  course_url          975 non-null    object\n",
      "dtypes: object(16)\n",
      "memory usage: 122.0+ KB\n"
     ]
    }
   ],
   "source": [
    "edx.info()"
   ]
  },
  {
   "attachments": {},
   "cell_type": "markdown",
   "metadata": {},
   "source": [
    "Limpieza de datos: Tratamos valores faltantes, duplicados y outliers."
   ]
  },
  {
   "cell_type": "code",
   "execution_count": 95,
   "metadata": {},
   "outputs": [
    {
     "data": {
      "text/plain": [
       "title                   0\n",
       "summary                53\n",
       "n_enrolled            120\n",
       "course_type             0\n",
       "institution             0\n",
       "instructors             3\n",
       "Level                   0\n",
       "subject                 0\n",
       "language                0\n",
       "subtitles               3\n",
       "course_effort           0\n",
       "course_length           0\n",
       "price                   0\n",
       "course_description     40\n",
       "course_syllabus       558\n",
       "course_url              0\n",
       "dtype: int64"
      ]
     },
     "execution_count": 95,
     "metadata": {},
     "output_type": "execute_result"
    }
   ],
   "source": [
    "edx.isnull().sum()"
   ]
  },
  {
   "cell_type": "code",
   "execution_count": 96,
   "metadata": {},
   "outputs": [],
   "source": [
    "# Reemplazamos los valores nulos en la columna 'summary' con los valores de la columna 'description' y asi para las otras columnas que podamos.\n",
    "\n",
    "edx[\"summary\"].fillna(edx[\"course_description\"], inplace=True)\n",
    "edx[\"subtitles\"].fillna(edx[\"language\"], inplace=True)\n",
    "edx[\"course_description\"].fillna('summary', inplace=True)\n",
    "edx['n_enrolled'].fillna(0, inplace=True)\n",
    "\n",
    "#borramos los nulos\n",
    "edx.dropna(subset=['summary'], inplace=True)\n",
    "edx.dropna(subset=['instructors'], inplace=True)"
   ]
  },
  {
   "attachments": {},
   "cell_type": "markdown",
   "metadata": {},
   "source": [
    "Como la columna 'course_syllabus' no es necesaria para nuestro análisis y posee gran cantidad de nulos la borramos"
   ]
  },
  {
   "cell_type": "code",
   "execution_count": 97,
   "metadata": {},
   "outputs": [],
   "source": [
    "edx.drop('course_syllabus', axis=1, inplace=True)"
   ]
  },
  {
   "attachments": {},
   "cell_type": "markdown",
   "metadata": {},
   "source": [
    "Veamos valores duplicados en la columna 'title'"
   ]
  },
  {
   "cell_type": "code",
   "execution_count": 98,
   "metadata": {},
   "outputs": [
    {
     "data": {
      "text/plain": [
       "Introduction to Probability                  2\n",
       "Marketing Management                         2\n",
       "Introduction to Marketing                    2\n",
       "How to Learn Online                          1\n",
       "Epidemics II                                 1\n",
       "                                            ..\n",
       "The Ancient Greek Hero                       1\n",
       "Agile Leadership Principles and Practices    1\n",
       "How to Code: Simple Data                     1\n",
       "Cybersecurity and Privacy in the IoT         1\n",
       "MathTrackX: Special Functions                1\n",
       "Name: title, Length: 943, dtype: int64"
      ]
     },
     "execution_count": 98,
     "metadata": {},
     "output_type": "execute_result"
    }
   ],
   "source": [
    "edx['title'].value_counts()"
   ]
  },
  {
   "attachments": {},
   "cell_type": "markdown",
   "metadata": {},
   "source": [
    "Veamos si esos 3 titulos son repetidos"
   ]
  },
  {
   "cell_type": "code",
   "execution_count": 99,
   "metadata": {},
   "outputs": [
    {
     "data": {
      "text/html": [
       "<div>\n",
       "<style scoped>\n",
       "    .dataframe tbody tr th:only-of-type {\n",
       "        vertical-align: middle;\n",
       "    }\n",
       "\n",
       "    .dataframe tbody tr th {\n",
       "        vertical-align: top;\n",
       "    }\n",
       "\n",
       "    .dataframe thead th {\n",
       "        text-align: right;\n",
       "    }\n",
       "</style>\n",
       "<table border=\"1\" class=\"dataframe\">\n",
       "  <thead>\n",
       "    <tr style=\"text-align: right;\">\n",
       "      <th></th>\n",
       "      <th>title</th>\n",
       "      <th>summary</th>\n",
       "      <th>n_enrolled</th>\n",
       "      <th>course_type</th>\n",
       "      <th>institution</th>\n",
       "      <th>instructors</th>\n",
       "      <th>Level</th>\n",
       "      <th>subject</th>\n",
       "      <th>language</th>\n",
       "      <th>subtitles</th>\n",
       "      <th>course_effort</th>\n",
       "      <th>course_length</th>\n",
       "      <th>price</th>\n",
       "      <th>course_description</th>\n",
       "      <th>course_url</th>\n",
       "    </tr>\n",
       "  </thead>\n",
       "  <tbody>\n",
       "    <tr>\n",
       "      <th>59</th>\n",
       "      <td>Introduction to Probability</td>\n",
       "      <td>Learn probability, an essential language and s...</td>\n",
       "      <td>97,291</td>\n",
       "      <td>Self-paced on your time</td>\n",
       "      <td>Harvard University</td>\n",
       "      <td>Joseph Blitzstein</td>\n",
       "      <td>Intermediate</td>\n",
       "      <td>Data Analysis &amp; Statistics</td>\n",
       "      <td>English</td>\n",
       "      <td>English</td>\n",
       "      <td>5–10 hours per week</td>\n",
       "      <td>10 Weeks</td>\n",
       "      <td>FREE-Add a Verified Certificate for $99 USD</td>\n",
       "      <td>Probability and statistics help to bring logic...</td>\n",
       "      <td>https://www.edx.org/course/introduction-to-pro...</td>\n",
       "    </tr>\n",
       "    <tr>\n",
       "      <th>95</th>\n",
       "      <td>Introduction to Probability</td>\n",
       "      <td>Learn probability, an essential language and s...</td>\n",
       "      <td>97,291</td>\n",
       "      <td>Self-paced on your time</td>\n",
       "      <td>Harvard University</td>\n",
       "      <td>Joseph Blitzstein</td>\n",
       "      <td>Intermediate</td>\n",
       "      <td>Data Analysis &amp; Statistics</td>\n",
       "      <td>English</td>\n",
       "      <td>English</td>\n",
       "      <td>5–10 hours per week</td>\n",
       "      <td>10 Weeks</td>\n",
       "      <td>FREE-Add a Verified Certificate for $99 USD</td>\n",
       "      <td>Probability and statistics help to bring logic...</td>\n",
       "      <td>https://www.edx.org/course/introduction-to-pro...</td>\n",
       "    </tr>\n",
       "  </tbody>\n",
       "</table>\n",
       "</div>"
      ],
      "text/plain": [
       "                          title  \\\n",
       "59  Introduction to Probability   \n",
       "95  Introduction to Probability   \n",
       "\n",
       "                                              summary n_enrolled  \\\n",
       "59  Learn probability, an essential language and s...     97,291   \n",
       "95  Learn probability, an essential language and s...     97,291   \n",
       "\n",
       "                course_type         institution        instructors  \\\n",
       "59  Self-paced on your time  Harvard University  Joseph Blitzstein   \n",
       "95  Self-paced on your time  Harvard University  Joseph Blitzstein   \n",
       "\n",
       "           Level                     subject language subtitles  \\\n",
       "59  Intermediate  Data Analysis & Statistics  English   English   \n",
       "95  Intermediate  Data Analysis & Statistics  English   English   \n",
       "\n",
       "          course_effort course_length  \\\n",
       "59  5–10 hours per week      10 Weeks   \n",
       "95  5–10 hours per week      10 Weeks   \n",
       "\n",
       "                                          price  \\\n",
       "59  FREE-Add a Verified Certificate for $99 USD   \n",
       "95  FREE-Add a Verified Certificate for $99 USD   \n",
       "\n",
       "                                   course_description  \\\n",
       "59  Probability and statistics help to bring logic...   \n",
       "95  Probability and statistics help to bring logic...   \n",
       "\n",
       "                                           course_url  \n",
       "59  https://www.edx.org/course/introduction-to-pro...  \n",
       "95  https://www.edx.org/course/introduction-to-pro...  "
      ]
     },
     "execution_count": 99,
     "metadata": {},
     "output_type": "execute_result"
    }
   ],
   "source": [
    "edx[edx['title']=='Introduction to Probability']"
   ]
  },
  {
   "cell_type": "code",
   "execution_count": 100,
   "metadata": {},
   "outputs": [],
   "source": [
    "#borramos el titulo repetido\n",
    "edx.drop(59, axis=0, inplace=True)"
   ]
  },
  {
   "cell_type": "code",
   "execution_count": 101,
   "metadata": {},
   "outputs": [
    {
     "data": {
      "text/html": [
       "<div>\n",
       "<style scoped>\n",
       "    .dataframe tbody tr th:only-of-type {\n",
       "        vertical-align: middle;\n",
       "    }\n",
       "\n",
       "    .dataframe tbody tr th {\n",
       "        vertical-align: top;\n",
       "    }\n",
       "\n",
       "    .dataframe thead th {\n",
       "        text-align: right;\n",
       "    }\n",
       "</style>\n",
       "<table border=\"1\" class=\"dataframe\">\n",
       "  <thead>\n",
       "    <tr style=\"text-align: right;\">\n",
       "      <th></th>\n",
       "      <th>title</th>\n",
       "      <th>summary</th>\n",
       "      <th>n_enrolled</th>\n",
       "      <th>course_type</th>\n",
       "      <th>institution</th>\n",
       "      <th>instructors</th>\n",
       "      <th>Level</th>\n",
       "      <th>subject</th>\n",
       "      <th>language</th>\n",
       "      <th>subtitles</th>\n",
       "      <th>course_effort</th>\n",
       "      <th>course_length</th>\n",
       "      <th>price</th>\n",
       "      <th>course_description</th>\n",
       "      <th>course_url</th>\n",
       "    </tr>\n",
       "  </thead>\n",
       "  <tbody>\n",
       "    <tr>\n",
       "      <th>159</th>\n",
       "      <td>Marketing Management</td>\n",
       "      <td>Learn how to effectively apply marketing manag...</td>\n",
       "      <td>80,010</td>\n",
       "      <td>Self-paced on your time</td>\n",
       "      <td>Indian Institute of Management Bangalore</td>\n",
       "      <td>Ashis Mishra</td>\n",
       "      <td>Intermediate</td>\n",
       "      <td>Business &amp; Management</td>\n",
       "      <td>English</td>\n",
       "      <td>English, हिन्दी</td>\n",
       "      <td>2–4 hours per week</td>\n",
       "      <td>9 Weeks</td>\n",
       "      <td>FREE-Add a Verified Certificate for $150 USD</td>\n",
       "      <td>According to world-renowned management consult...</td>\n",
       "      <td>https://www.edx.org/course/marketing-management</td>\n",
       "    </tr>\n",
       "    <tr>\n",
       "      <th>388</th>\n",
       "      <td>Marketing Management</td>\n",
       "      <td>Learn key marketing strategies and tactics to ...</td>\n",
       "      <td>43,415</td>\n",
       "      <td>Instructor-led on a course schedule</td>\n",
       "      <td>The University of Maryland, College Park-Unive...</td>\n",
       "      <td>Judy Frels-David Godes-P.K. Kannan-Mary Beth F...</td>\n",
       "      <td>Advanced</td>\n",
       "      <td>Business &amp; Management</td>\n",
       "      <td>English</td>\n",
       "      <td>English</td>\n",
       "      <td>8–10 hours per week</td>\n",
       "      <td>7 Weeks</td>\n",
       "      <td>FREE-Add a Verified Certificate for $214 USD</td>\n",
       "      <td>Mark Cuban, owner of the Dallas Mavericks, put...</td>\n",
       "      <td>https://www.edx.org/course/marketing-management-2</td>\n",
       "    </tr>\n",
       "  </tbody>\n",
       "</table>\n",
       "</div>"
      ],
      "text/plain": [
       "                    title                                            summary  \\\n",
       "159  Marketing Management  Learn how to effectively apply marketing manag...   \n",
       "388  Marketing Management  Learn key marketing strategies and tactics to ...   \n",
       "\n",
       "    n_enrolled                          course_type  \\\n",
       "159     80,010              Self-paced on your time   \n",
       "388     43,415  Instructor-led on a course schedule   \n",
       "\n",
       "                                           institution  \\\n",
       "159           Indian Institute of Management Bangalore   \n",
       "388  The University of Maryland, College Park-Unive...   \n",
       "\n",
       "                                           instructors         Level  \\\n",
       "159                                       Ashis Mishra  Intermediate   \n",
       "388  Judy Frels-David Godes-P.K. Kannan-Mary Beth F...      Advanced   \n",
       "\n",
       "                   subject language        subtitles        course_effort  \\\n",
       "159  Business & Management  English  English, हिन्दी   2–4 hours per week   \n",
       "388  Business & Management  English          English  8–10 hours per week   \n",
       "\n",
       "    course_length                                         price  \\\n",
       "159       9 Weeks  FREE-Add a Verified Certificate for $150 USD   \n",
       "388       7 Weeks  FREE-Add a Verified Certificate for $214 USD   \n",
       "\n",
       "                                    course_description  \\\n",
       "159  According to world-renowned management consult...   \n",
       "388  Mark Cuban, owner of the Dallas Mavericks, put...   \n",
       "\n",
       "                                            course_url  \n",
       "159    https://www.edx.org/course/marketing-management  \n",
       "388  https://www.edx.org/course/marketing-management-2  "
      ]
     },
     "execution_count": 101,
     "metadata": {},
     "output_type": "execute_result"
    }
   ],
   "source": [
    "edx[edx['title']=='Marketing Management']"
   ]
  },
  {
   "cell_type": "code",
   "execution_count": 102,
   "metadata": {},
   "outputs": [
    {
     "data": {
      "text/html": [
       "<div>\n",
       "<style scoped>\n",
       "    .dataframe tbody tr th:only-of-type {\n",
       "        vertical-align: middle;\n",
       "    }\n",
       "\n",
       "    .dataframe tbody tr th {\n",
       "        vertical-align: top;\n",
       "    }\n",
       "\n",
       "    .dataframe thead th {\n",
       "        text-align: right;\n",
       "    }\n",
       "</style>\n",
       "<table border=\"1\" class=\"dataframe\">\n",
       "  <thead>\n",
       "    <tr style=\"text-align: right;\">\n",
       "      <th></th>\n",
       "      <th>title</th>\n",
       "      <th>summary</th>\n",
       "      <th>n_enrolled</th>\n",
       "      <th>course_type</th>\n",
       "      <th>institution</th>\n",
       "      <th>instructors</th>\n",
       "      <th>Level</th>\n",
       "      <th>subject</th>\n",
       "      <th>language</th>\n",
       "      <th>subtitles</th>\n",
       "      <th>course_effort</th>\n",
       "      <th>course_length</th>\n",
       "      <th>price</th>\n",
       "      <th>course_description</th>\n",
       "      <th>course_url</th>\n",
       "    </tr>\n",
       "  </thead>\n",
       "  <tbody>\n",
       "    <tr>\n",
       "      <th>161</th>\n",
       "      <td>Introduction to Marketing</td>\n",
       "      <td>Learn the fundamentals to marketing, including...</td>\n",
       "      <td>169,126</td>\n",
       "      <td>Self-paced on your time</td>\n",
       "      <td>University of British Columbia</td>\n",
       "      <td>Darren Dahl-Paul Cubbon</td>\n",
       "      <td>Introductory</td>\n",
       "      <td>Business &amp; Management</td>\n",
       "      <td>English</td>\n",
       "      <td>English</td>\n",
       "      <td>3–5 hours per week</td>\n",
       "      <td>6 Weeks</td>\n",
       "      <td>FREE-Add a Verified Certificate for $150 USD</td>\n",
       "      <td>Marketing is a crucial function in all busines...</td>\n",
       "      <td>https://www.edx.org/course/introduction-to-mar...</td>\n",
       "    </tr>\n",
       "    <tr>\n",
       "      <th>561</th>\n",
       "      <td>Introduction to Marketing</td>\n",
       "      <td>An introduction to the role of marketing in a ...</td>\n",
       "      <td>0</td>\n",
       "      <td>Self-paced on your time</td>\n",
       "      <td>The University of Edinburgh</td>\n",
       "      <td>Ewelina Lacka-Malcolm Kirkup-Asanka de Silva-A...</td>\n",
       "      <td>Introductory</td>\n",
       "      <td>Business &amp; Management</td>\n",
       "      <td>English</td>\n",
       "      <td>English</td>\n",
       "      <td>2–3 hours per week</td>\n",
       "      <td>6 Weeks</td>\n",
       "      <td>FREE-Add a Verified Certificate for $149 USD</td>\n",
       "      <td>Do you want to learn how successful businesses...</td>\n",
       "      <td>https://www.edx.org/course/introduction-to-mar...</td>\n",
       "    </tr>\n",
       "  </tbody>\n",
       "</table>\n",
       "</div>"
      ],
      "text/plain": [
       "                         title  \\\n",
       "161  Introduction to Marketing   \n",
       "561  Introduction to Marketing   \n",
       "\n",
       "                                               summary n_enrolled  \\\n",
       "161  Learn the fundamentals to marketing, including...    169,126   \n",
       "561  An introduction to the role of marketing in a ...          0   \n",
       "\n",
       "                 course_type                     institution  \\\n",
       "161  Self-paced on your time  University of British Columbia   \n",
       "561  Self-paced on your time     The University of Edinburgh   \n",
       "\n",
       "                                           instructors         Level  \\\n",
       "161                            Darren Dahl-Paul Cubbon  Introductory   \n",
       "561  Ewelina Lacka-Malcolm Kirkup-Asanka de Silva-A...  Introductory   \n",
       "\n",
       "                   subject language subtitles       course_effort  \\\n",
       "161  Business & Management  English   English  3–5 hours per week   \n",
       "561  Business & Management  English   English  2–3 hours per week   \n",
       "\n",
       "    course_length                                         price  \\\n",
       "161       6 Weeks  FREE-Add a Verified Certificate for $150 USD   \n",
       "561       6 Weeks  FREE-Add a Verified Certificate for $149 USD   \n",
       "\n",
       "                                    course_description  \\\n",
       "161  Marketing is a crucial function in all busines...   \n",
       "561  Do you want to learn how successful businesses...   \n",
       "\n",
       "                                            course_url  \n",
       "161  https://www.edx.org/course/introduction-to-mar...  \n",
       "561  https://www.edx.org/course/introduction-to-mar...  "
      ]
     },
     "execution_count": 102,
     "metadata": {},
     "output_type": "execute_result"
    }
   ],
   "source": [
    "edx[edx['title']=='Introduction to Marketing']"
   ]
  },
  {
   "attachments": {},
   "cell_type": "markdown",
   "metadata": {},
   "source": [
    "Los dos últimos dos titulos son diferentes, por tanto no los borramos."
   ]
  },
  {
   "attachments": {},
   "cell_type": "markdown",
   "metadata": {},
   "source": [
    "Para la columna 'price' sacamos solo el valor numérico para despues calcular la columna ventas."
   ]
  },
  {
   "cell_type": "code",
   "execution_count": 103,
   "metadata": {},
   "outputs": [],
   "source": [
    "#creamos una funcion que extrae solo el número de la columna 'price'\n",
    "\n",
    "import re\n",
    "\n",
    "def extract_value(text):\n",
    "    match = re.search(r'\\$(\\d+)', text)\n",
    "    if match:\n",
    "        return int(match.group(1))\n",
    "    else:\n",
    "        return None\n"
   ]
  },
  {
   "cell_type": "code",
   "execution_count": 104,
   "metadata": {},
   "outputs": [],
   "source": [
    "edx['price'] = edx['price'].apply(extract_value)"
   ]
  },
  {
   "attachments": {},
   "cell_type": "markdown",
   "metadata": {},
   "source": [
    "Finalmente exportamos nuestro dataframe 'edx' en formato csv para un futuro analisis en Power Bi."
   ]
  },
  {
   "cell_type": "code",
   "execution_count": 105,
   "metadata": {},
   "outputs": [],
   "source": [
    "edx.to_csv('edx.csv',columns= ['title', 'summary', 'n_enrolled', 'course_type', 'institution',\n",
    "       'instructors', 'Level', 'subject', 'language', 'subtitles',\n",
    "       'course_effort', 'course_length', 'price', 'course_description',\n",
    "       'course_url', ],header=True, index=False)"
   ]
  },
  {
   "attachments": {},
   "cell_type": "markdown",
   "metadata": {},
   "source": [
    "EDA para el dataframe 'udemy'."
   ]
  },
  {
   "cell_type": "code",
   "execution_count": 106,
   "metadata": {},
   "outputs": [
    {
     "name": "stdout",
     "output_type": "stream",
     "text": [
      "<class 'pandas.core.frame.DataFrame'>\n",
      "RangeIndex: 3678 entries, 0 to 3677\n",
      "Data columns (total 12 columns):\n",
      " #   Column               Non-Null Count  Dtype  \n",
      "---  ------               --------------  -----  \n",
      " 0   course_id            3678 non-null   int64  \n",
      " 1   course_title         3678 non-null   object \n",
      " 2   url                  3678 non-null   object \n",
      " 3   is_paid              3678 non-null   bool   \n",
      " 4   price                3678 non-null   int64  \n",
      " 5   num_subscribers      3678 non-null   int64  \n",
      " 6   num_reviews          3678 non-null   int64  \n",
      " 7   num_lectures         3678 non-null   int64  \n",
      " 8   level                3678 non-null   object \n",
      " 9   content_duration     3678 non-null   float64\n",
      " 10  published_timestamp  3678 non-null   object \n",
      " 11  subject              3678 non-null   object \n",
      "dtypes: bool(1), float64(1), int64(5), object(5)\n",
      "memory usage: 319.8+ KB\n"
     ]
    }
   ],
   "source": [
    "udemy.info()"
   ]
  },
  {
   "attachments": {},
   "cell_type": "markdown",
   "metadata": {},
   "source": [
    "veamos si hay registros duplicados con la columna 'course_id'"
   ]
  },
  {
   "cell_type": "code",
   "execution_count": 107,
   "metadata": {},
   "outputs": [
    {
     "data": {
      "text/plain": [
       "1084454    2\n",
       "28295      2\n",
       "185526     2\n",
       "1157298    2\n",
       "837322     2\n",
       "          ..\n",
       "669174     1\n",
       "1185898    1\n",
       "1177156    1\n",
       "177614     1\n",
       "297602     1\n",
       "Name: course_id, Length: 3672, dtype: int64"
      ]
     },
     "execution_count": 107,
     "metadata": {},
     "output_type": "execute_result"
    }
   ],
   "source": [
    "udemy['course_id'].value_counts()"
   ]
  },
  {
   "attachments": {},
   "cell_type": "markdown",
   "metadata": {},
   "source": [
    "borramos los duplicados"
   ]
  },
  {
   "cell_type": "code",
   "execution_count": 108,
   "metadata": {},
   "outputs": [],
   "source": [
    "udemy.drop_duplicates(subset=['course_id'], keep='first',inplace=True)"
   ]
  },
  {
   "cell_type": "code",
   "execution_count": 109,
   "metadata": {},
   "outputs": [
    {
     "data": {
      "text/plain": [
       "<function matplotlib.pyplot.show(close=None, block=None)>"
      ]
     },
     "execution_count": 109,
     "metadata": {},
     "output_type": "execute_result"
    },
    {
     "data": {
      "image/png": "[encoded data removed]",
      "text/plain": [
       "<Figure size 1440x1080 with 6 Axes>"
      ]
     },
     "metadata": {
      "needs_background": "light"
     },
     "output_type": "display_data"
    }
   ],
   "source": [
    "#graficamos histogramas para los datos numericos\n",
    "\n",
    "import matplotlib.pyplot as plt\n",
    "udemy.hist(bins = 50, figsize = (20,15))\n",
    "plt.show"
   ]
  },
  {
   "attachments": {},
   "cell_type": "markdown",
   "metadata": {},
   "source": [
    "* Las columnas 'price' y 'content_duration' no presentan outliers y tienen tendencia a ser segadas a la izquierda\n",
    "* Las distrubuciones de las columnas 'num_lectures', 'num_subscribers' y 'num_reviews' presentan distribuciones sesgadas a la izquierda y además se detectan valores inusuales en dichas columnas. "
   ]
  },
  {
   "attachments": {},
   "cell_type": "markdown",
   "metadata": {},
   "source": [
    "Veamos estas distribuciones más a detalle."
   ]
  },
  {
   "cell_type": "code",
   "execution_count": 110,
   "metadata": {},
   "outputs": [
    {
     "data": {
      "image/png": "[encoded data removed]",
      "text/plain": [
       "<Figure size 432x288 with 1 Axes>"
      ]
     },
     "metadata": {
      "needs_background": "light"
     },
     "output_type": "display_data"
    }
   ],
   "source": [
    "udemy.boxplot(column=['num_subscribers', 'num_reviews','num_lectures'], grid=False)\n",
    "\n",
    "plt.show()\n"
   ]
  },
  {
   "cell_type": "code",
   "execution_count": 111,
   "metadata": {},
   "outputs": [
    {
     "data": {
      "text/plain": [
       "<AxesSubplot: >"
      ]
     },
     "execution_count": 111,
     "metadata": {},
     "output_type": "execute_result"
    },
    {
     "data": {
      "image/png": "[encoded data removed]",
      "text/plain": [
       "<Figure size 432x288 with 1 Axes>"
      ]
     },
     "metadata": {
      "needs_background": "light"
     },
     "output_type": "display_data"
    }
   ],
   "source": [
    "# Distribucion de la columna 'num_subscribers' sin outliers\n",
    "\n",
    "udemy.boxplot(column=['num_subscribers'], grid=False, showfliers= False)\n"
   ]
  },
  {
   "cell_type": "code",
   "execution_count": 112,
   "metadata": {},
   "outputs": [
    {
     "data": {
      "text/plain": [
       "<AxesSubplot: >"
      ]
     },
     "execution_count": 112,
     "metadata": {},
     "output_type": "execute_result"
    },
    {
     "data": {
      "image/png": "[encoded data removed]",
      "text/plain": [
       "<Figure size 432x288 with 1 Axes>"
      ]
     },
     "metadata": {
      "needs_background": "light"
     },
     "output_type": "display_data"
    }
   ],
   "source": [
    "# Distribucion de la columna 'num_reviews' sin outliers\n",
    "\n",
    "udemy.boxplot(column=['num_reviews'], grid=False, showfliers= False)\n"
   ]
  },
  {
   "cell_type": "code",
   "execution_count": 113,
   "metadata": {},
   "outputs": [
    {
     "data": {
      "text/plain": [
       "<AxesSubplot: >"
      ]
     },
     "execution_count": 113,
     "metadata": {},
     "output_type": "execute_result"
    },
    {
     "data": {
      "image/png": "[encoded data removed]",
      "text/plain": [
       "<Figure size 432x288 with 1 Axes>"
      ]
     },
     "metadata": {
      "needs_background": "light"
     },
     "output_type": "display_data"
    }
   ],
   "source": [
    "# Distribucion de la columna 'num_lectures' sin outliers\n",
    "\n",
    "udemy.boxplot(column=['num_lectures'], grid=False, showfliers= False)\n"
   ]
  },
  {
   "attachments": {},
   "cell_type": "markdown",
   "metadata": {},
   "source": [
    "Observando los diagramas de caja con outliers y sin outliers encontramos que hay gran número de outliers en las tres distribuciones, sin embargo, considerando el contexto del problema, estos valores se pueden dar sin ningún problema, ya que por ejemplo para la columna 'num_subscribers' pueden haber cursos muy buenos y así tener un gran número de subscriptores. Por lo tanto, no vamos a borrar los outliers presentes en estas tres columnas."
   ]
  },
  {
   "cell_type": "code",
   "execution_count": 114,
   "metadata": {},
   "outputs": [
    {
     "data": {
      "image/png": "[encoded data removed]",
      "text/plain": [
       "<Figure size 432x288 with 1 Axes>"
      ]
     },
     "metadata": {
      "needs_background": "light"
     },
     "output_type": "display_data"
    }
   ],
   "source": [
    "# seleccionamos la variable para crear un histograma\n",
    "variable = udemy[\"level\"]\n",
    "\n",
    "# crea el histograma\n",
    "plt.hist(variable, bins=30, edgecolor='black')\n",
    "\n",
    "# agrega título y etiquetas de eje\n",
    "plt.title(\"Distribución de la variable 'level'\", color='purple')\n",
    "plt.xlabel(\"rating\")\n",
    "plt.ylabel(\"frecuencia\")\n",
    "\n",
    "# muestra el histograma\n",
    "plt.show()"
   ]
  },
  {
   "attachments": {},
   "cell_type": "markdown",
   "metadata": {},
   "source": [
    "Observamos que no presenta outliers y se distribuye bien ya que los cursos 'Expert nivel' son pocos mientras que los cursos de dificultad básica son de mayor frecuencia en dichas plataformas."
   ]
  },
  {
   "attachments": {},
   "cell_type": "markdown",
   "metadata": {},
   "source": [
    "Usamos la funcion 'detect_language' para crear la columna 'language' "
   ]
  },
  {
   "cell_type": "code",
   "execution_count": 115,
   "metadata": {},
   "outputs": [],
   "source": [
    "udemy['language'] = udemy['course_title'].apply(detect_language)"
   ]
  },
  {
   "attachments": {},
   "cell_type": "markdown",
   "metadata": {},
   "source": [
    "Finalmente exportamos nuestro dataframe 'edx' en formato csv para un futuro analisis en Power Bi."
   ]
  },
  {
   "cell_type": "code",
   "execution_count": 116,
   "metadata": {},
   "outputs": [],
   "source": [
    "udemy.to_csv('udemy.csv',columns= ['course_id', 'course_title', 'url', 'is_paid', 'price',\n",
    "       'num_subscribers', 'num_reviews', 'num_lectures', 'level',\n",
    "       'content_duration', 'published_timestamp', 'subject','language'], index_label= 'course_id', index=False)"
   ]
  },
  {
   "attachments": {},
   "cell_type": "markdown",
   "metadata": {},
   "source": [
    "Hasta aquí llega nuestro EDA para los datasets que estamos trabajando. Ahora vamos a exportarlos a la herrramienta Power Bi con el fin de realizar las consultas y dashboard requeridos por el cliente."
   ]
  }
 ],
 "metadata": {
  "kernelspec": {
   "display_name": "Python 3",
   "language": "python",
   "name": "python3"
  },
  "language_info": {
   "codemirror_mode": {
    "name": "ipython",
    "version": 3
   },
   "file_extension": ".py",
   "mimetype": "text/x-python",
   "name": "python",
   "nbconvert_exporter": "python",
   "pygments_lexer": "ipython3",
   "version": "3.10.5"
  },
  "orig_nbformat": 4,
  "vscode": {
   "interpreter": {
    "hash": "680909a85cd0f96ba1c50ae49c7276dc4874e63b5fd1d1624a0b59680dc2cd74"
   }
  }
 },
 "nbformat": 4,
 "nbformat_minor": 2
}
